{
 "cells": [
  {
   "cell_type": "code",
   "execution_count": 1,
   "metadata": {},
   "outputs": [],
   "source": [
    "import numpy as np\n",
    "import pandas as pd\n",
    "import matplotlib.pyplot as plt"
   ]
  },
  {
   "cell_type": "code",
   "execution_count": 59,
   "metadata": {},
   "outputs": [],
   "source": [
    "pos_cash_balance = pd.read_csv(\"../home-credit-default-risk/POS_CASH_balance.csv\")"
   ]
  },
  {
   "cell_type": "code",
   "execution_count": 60,
   "metadata": {},
   "outputs": [
    {
     "data": {
      "text/html": [
       "<div>\n",
       "<style scoped>\n",
       "    .dataframe tbody tr th:only-of-type {\n",
       "        vertical-align: middle;\n",
       "    }\n",
       "\n",
       "    .dataframe tbody tr th {\n",
       "        vertical-align: top;\n",
       "    }\n",
       "\n",
       "    .dataframe thead th {\n",
       "        text-align: right;\n",
       "    }\n",
       "</style>\n",
       "<table border=\"1\" class=\"dataframe\">\n",
       "  <thead>\n",
       "    <tr style=\"text-align: right;\">\n",
       "      <th></th>\n",
       "      <th>SK_ID_PREV</th>\n",
       "      <th>SK_ID_CURR</th>\n",
       "      <th>MONTHS_BALANCE</th>\n",
       "      <th>CNT_INSTALMENT</th>\n",
       "      <th>CNT_INSTALMENT_FUTURE</th>\n",
       "      <th>NAME_CONTRACT_STATUS</th>\n",
       "      <th>SK_DPD</th>\n",
       "      <th>SK_DPD_DEF</th>\n",
       "    </tr>\n",
       "  </thead>\n",
       "  <tbody>\n",
       "    <tr>\n",
       "      <th>0</th>\n",
       "      <td>1803195</td>\n",
       "      <td>182943</td>\n",
       "      <td>-31</td>\n",
       "      <td>48.0</td>\n",
       "      <td>45.0</td>\n",
       "      <td>Active</td>\n",
       "      <td>0</td>\n",
       "      <td>0</td>\n",
       "    </tr>\n",
       "    <tr>\n",
       "      <th>1</th>\n",
       "      <td>1715348</td>\n",
       "      <td>367990</td>\n",
       "      <td>-33</td>\n",
       "      <td>36.0</td>\n",
       "      <td>35.0</td>\n",
       "      <td>Active</td>\n",
       "      <td>0</td>\n",
       "      <td>0</td>\n",
       "    </tr>\n",
       "    <tr>\n",
       "      <th>2</th>\n",
       "      <td>1784872</td>\n",
       "      <td>397406</td>\n",
       "      <td>-32</td>\n",
       "      <td>12.0</td>\n",
       "      <td>9.0</td>\n",
       "      <td>Active</td>\n",
       "      <td>0</td>\n",
       "      <td>0</td>\n",
       "    </tr>\n",
       "    <tr>\n",
       "      <th>3</th>\n",
       "      <td>1903291</td>\n",
       "      <td>269225</td>\n",
       "      <td>-35</td>\n",
       "      <td>48.0</td>\n",
       "      <td>42.0</td>\n",
       "      <td>Active</td>\n",
       "      <td>0</td>\n",
       "      <td>0</td>\n",
       "    </tr>\n",
       "    <tr>\n",
       "      <th>4</th>\n",
       "      <td>2341044</td>\n",
       "      <td>334279</td>\n",
       "      <td>-35</td>\n",
       "      <td>36.0</td>\n",
       "      <td>35.0</td>\n",
       "      <td>Active</td>\n",
       "      <td>0</td>\n",
       "      <td>0</td>\n",
       "    </tr>\n",
       "  </tbody>\n",
       "</table>\n",
       "</div>"
      ],
      "text/plain": [
       "   SK_ID_PREV  SK_ID_CURR  MONTHS_BALANCE  CNT_INSTALMENT  \\\n",
       "0     1803195      182943             -31            48.0   \n",
       "1     1715348      367990             -33            36.0   \n",
       "2     1784872      397406             -32            12.0   \n",
       "3     1903291      269225             -35            48.0   \n",
       "4     2341044      334279             -35            36.0   \n",
       "\n",
       "   CNT_INSTALMENT_FUTURE NAME_CONTRACT_STATUS  SK_DPD  SK_DPD_DEF  \n",
       "0                   45.0               Active       0           0  \n",
       "1                   35.0               Active       0           0  \n",
       "2                    9.0               Active       0           0  \n",
       "3                   42.0               Active       0           0  \n",
       "4                   35.0               Active       0           0  "
      ]
     },
     "execution_count": 60,
     "metadata": {},
     "output_type": "execute_result"
    }
   ],
   "source": [
    "pos_cash_balance.head()"
   ]
  },
  {
   "cell_type": "code",
   "execution_count": 61,
   "metadata": {},
   "outputs": [
    {
     "name": "stdout",
     "output_type": "stream",
     "text": [
      "<class 'pandas.core.frame.DataFrame'>\n",
      "RangeIndex: 10001358 entries, 0 to 10001357\n",
      "Data columns (total 8 columns):\n",
      "SK_ID_PREV               10001358 non-null int64\n",
      "SK_ID_CURR               10001358 non-null int64\n",
      "MONTHS_BALANCE           10001358 non-null int64\n",
      "CNT_INSTALMENT           9975287 non-null float64\n",
      "CNT_INSTALMENT_FUTURE    9975271 non-null float64\n",
      "NAME_CONTRACT_STATUS     10001358 non-null object\n",
      "SK_DPD                   10001358 non-null int64\n",
      "SK_DPD_DEF               10001358 non-null int64\n",
      "dtypes: float64(2), int64(5), object(1)\n",
      "memory usage: 610.4+ MB\n"
     ]
    }
   ],
   "source": [
    "pos_cash_balance.info(verbose=True, null_counts=True)"
   ]
  },
  {
   "cell_type": "markdown",
   "metadata": {},
   "source": [
    "<strong>missing data</strong><br>\n",
    "CNT_INSTALMENT: Term of previous credit (can change over time)<br>\n",
    "CNT_INSTALMENT_FUTURE: Installments left to pay on the previous credit<br>"
   ]
  },
  {
   "cell_type": "code",
   "execution_count": 5,
   "metadata": {},
   "outputs": [
    {
     "name": "stdout",
     "output_type": "stream",
     "text": [
      "(26071, 8)\n",
      "(26087, 8)\n"
     ]
    }
   ],
   "source": [
    "cnt_ins_nan = pos_cash_balance[pos_cash_balance['CNT_INSTALMENT'].isnull()]\n",
    "print(cnt_ins_nan.shape)\n",
    "cnt_ins_fut_nan = pos_cash_balance[pos_cash_balance['CNT_INSTALMENT_FUTURE'].isnull()]\n",
    "print(cnt_ins_fut_nan.shape)"
   ]
  },
  {
   "cell_type": "code",
   "execution_count": 6,
   "metadata": {},
   "outputs": [
    {
     "name": "stdout",
     "output_type": "stream",
     "text": [
      "CNT_INSTALMENT\n",
      "Signed                   20266\n",
      "Returned to the store     2961\n",
      "Approved                  2804\n",
      "Active                      26\n",
      "Canceled                    12\n",
      "XNA                          2\n",
      "Name: NAME_CONTRACT_STATUS, dtype: int64\n",
      "-----\n",
      "CNT_INSTALMENT_FUTURE\n",
      "Signed                   20291\n",
      "Returned to the store     2962\n",
      "Approved                  2794\n",
      "Active                      26\n",
      "Canceled                    12\n",
      "XNA                          2\n",
      "Name: NAME_CONTRACT_STATUS, dtype: int64\n",
      "-----\n",
      "元データ\n",
      "Active                   9151119\n",
      "Completed                 744883\n",
      "Signed                     87260\n",
      "Demand                      7065\n",
      "Returned to the store       5461\n",
      "Approved                    4917\n",
      "Amortized debt               636\n",
      "Canceled                      15\n",
      "XNA                            2\n",
      "Name: NAME_CONTRACT_STATUS, dtype: int64\n"
     ]
    }
   ],
   "source": [
    "#欠損しているデータの契約情報の確認\n",
    "print('CNT_INSTALMENT')\n",
    "print(cnt_ins_nan['NAME_CONTRACT_STATUS'].value_counts())\n",
    "print('-----')\n",
    "print('CNT_INSTALMENT_FUTURE')\n",
    "print(cnt_ins_fut_nan['NAME_CONTRACT_STATUS'].value_counts())\n",
    "print('-----')\n",
    "print('元データ')\n",
    "print(pos_cash_balance['NAME_CONTRACT_STATUS'].value_counts())"
   ]
  },
  {
   "cell_type": "markdown",
   "metadata": {},
   "source": [
    "<銀行マンの話><br>\n",
    " 来店→審査→承認→契約書→実行→完済"
   ]
  },
  {
   "cell_type": "code",
   "execution_count": 7,
   "metadata": {},
   "outputs": [
    {
     "data": {
      "text/html": [
       "<div>\n",
       "<style scoped>\n",
       "    .dataframe tbody tr th:only-of-type {\n",
       "        vertical-align: middle;\n",
       "    }\n",
       "\n",
       "    .dataframe tbody tr th {\n",
       "        vertical-align: top;\n",
       "    }\n",
       "\n",
       "    .dataframe thead th {\n",
       "        text-align: right;\n",
       "    }\n",
       "</style>\n",
       "<table border=\"1\" class=\"dataframe\">\n",
       "  <thead>\n",
       "    <tr style=\"text-align: right;\">\n",
       "      <th></th>\n",
       "      <th>SK_ID_PREV</th>\n",
       "      <th>SK_ID_CURR</th>\n",
       "      <th>MONTHS_BALANCE</th>\n",
       "      <th>CNT_INSTALMENT</th>\n",
       "      <th>CNT_INSTALMENT_FUTURE</th>\n",
       "      <th>NAME_CONTRACT_STATUS</th>\n",
       "      <th>SK_DPD</th>\n",
       "      <th>SK_DPD_DEF</th>\n",
       "    </tr>\n",
       "  </thead>\n",
       "  <tbody>\n",
       "    <tr>\n",
       "      <th>1614508</th>\n",
       "      <td>1378042</td>\n",
       "      <td>142208</td>\n",
       "      <td>-21</td>\n",
       "      <td>NaN</td>\n",
       "      <td>NaN</td>\n",
       "      <td>XNA</td>\n",
       "      <td>0</td>\n",
       "      <td>0</td>\n",
       "    </tr>\n",
       "    <tr>\n",
       "      <th>1614509</th>\n",
       "      <td>1711630</td>\n",
       "      <td>309000</td>\n",
       "      <td>-24</td>\n",
       "      <td>NaN</td>\n",
       "      <td>NaN</td>\n",
       "      <td>XNA</td>\n",
       "      <td>0</td>\n",
       "      <td>0</td>\n",
       "    </tr>\n",
       "  </tbody>\n",
       "</table>\n",
       "</div>"
      ],
      "text/plain": [
       "         SK_ID_PREV  SK_ID_CURR  MONTHS_BALANCE  CNT_INSTALMENT  \\\n",
       "1614508     1378042      142208             -21             NaN   \n",
       "1614509     1711630      309000             -24             NaN   \n",
       "\n",
       "         CNT_INSTALMENT_FUTURE NAME_CONTRACT_STATUS  SK_DPD  SK_DPD_DEF  \n",
       "1614508                    NaN                  XNA       0           0  \n",
       "1614509                    NaN                  XNA       0           0  "
      ]
     },
     "execution_count": 7,
     "metadata": {},
     "output_type": "execute_result"
    }
   ],
   "source": [
    "#XNA\n",
    "pos_cash_balance.query('NAME_CONTRACT_STATUS == \"XNA\"').head()"
   ]
  },
  {
   "cell_type": "markdown",
   "metadata": {},
   "source": [
    "XNA: (不明）<br>\n",
    "→２　全て欠損　0で埋める？<br>\n",
    "CNT_INSTALMENT_FUTUREも両方欠損しているので、両方０で埋める？"
   ]
  },
  {
   "cell_type": "code",
   "execution_count": 8,
   "metadata": {},
   "outputs": [
    {
     "data": {
      "text/html": [
       "<div>\n",
       "<style scoped>\n",
       "    .dataframe tbody tr th:only-of-type {\n",
       "        vertical-align: middle;\n",
       "    }\n",
       "\n",
       "    .dataframe tbody tr th {\n",
       "        vertical-align: top;\n",
       "    }\n",
       "\n",
       "    .dataframe thead th {\n",
       "        text-align: right;\n",
       "    }\n",
       "</style>\n",
       "<table border=\"1\" class=\"dataframe\">\n",
       "  <thead>\n",
       "    <tr style=\"text-align: right;\">\n",
       "      <th></th>\n",
       "      <th>SK_ID_PREV</th>\n",
       "      <th>SK_ID_CURR</th>\n",
       "      <th>MONTHS_BALANCE</th>\n",
       "      <th>CNT_INSTALMENT</th>\n",
       "      <th>CNT_INSTALMENT_FUTURE</th>\n",
       "      <th>NAME_CONTRACT_STATUS</th>\n",
       "      <th>SK_DPD</th>\n",
       "      <th>SK_DPD_DEF</th>\n",
       "    </tr>\n",
       "  </thead>\n",
       "  <tbody>\n",
       "    <tr>\n",
       "      <th>972025</th>\n",
       "      <td>2200360</td>\n",
       "      <td>256843</td>\n",
       "      <td>-6</td>\n",
       "      <td>NaN</td>\n",
       "      <td>NaN</td>\n",
       "      <td>Canceled</td>\n",
       "      <td>0</td>\n",
       "      <td>0</td>\n",
       "    </tr>\n",
       "    <tr>\n",
       "      <th>3804943</th>\n",
       "      <td>2762733</td>\n",
       "      <td>307509</td>\n",
       "      <td>-37</td>\n",
       "      <td>12.0</td>\n",
       "      <td>12.0</td>\n",
       "      <td>Canceled</td>\n",
       "      <td>0</td>\n",
       "      <td>0</td>\n",
       "    </tr>\n",
       "    <tr>\n",
       "      <th>4727178</th>\n",
       "      <td>1720362</td>\n",
       "      <td>387292</td>\n",
       "      <td>-19</td>\n",
       "      <td>NaN</td>\n",
       "      <td>NaN</td>\n",
       "      <td>Canceled</td>\n",
       "      <td>0</td>\n",
       "      <td>0</td>\n",
       "    </tr>\n",
       "    <tr>\n",
       "      <th>5018718</th>\n",
       "      <td>1531600</td>\n",
       "      <td>103793</td>\n",
       "      <td>-28</td>\n",
       "      <td>NaN</td>\n",
       "      <td>NaN</td>\n",
       "      <td>Canceled</td>\n",
       "      <td>0</td>\n",
       "      <td>0</td>\n",
       "    </tr>\n",
       "    <tr>\n",
       "      <th>7348078</th>\n",
       "      <td>2239989</td>\n",
       "      <td>347381</td>\n",
       "      <td>-2</td>\n",
       "      <td>NaN</td>\n",
       "      <td>NaN</td>\n",
       "      <td>Canceled</td>\n",
       "      <td>0</td>\n",
       "      <td>0</td>\n",
       "    </tr>\n",
       "  </tbody>\n",
       "</table>\n",
       "</div>"
      ],
      "text/plain": [
       "         SK_ID_PREV  SK_ID_CURR  MONTHS_BALANCE  CNT_INSTALMENT  \\\n",
       "972025      2200360      256843              -6             NaN   \n",
       "3804943     2762733      307509             -37            12.0   \n",
       "4727178     1720362      387292             -19             NaN   \n",
       "5018718     1531600      103793             -28             NaN   \n",
       "7348078     2239989      347381              -2             NaN   \n",
       "\n",
       "         CNT_INSTALMENT_FUTURE NAME_CONTRACT_STATUS  SK_DPD  SK_DPD_DEF  \n",
       "972025                     NaN             Canceled       0           0  \n",
       "3804943                   12.0             Canceled       0           0  \n",
       "4727178                    NaN             Canceled       0           0  \n",
       "5018718                    NaN             Canceled       0           0  \n",
       "7348078                    NaN             Canceled       0           0  "
      ]
     },
     "execution_count": 8,
     "metadata": {},
     "output_type": "execute_result"
    }
   ],
   "source": [
    "#Canceled\n",
    "cancel_data = pos_cash_balance.query('NAME_CONTRACT_STATUS == \"Canceled\"')\n",
    "cancel_data.head()"
   ]
  },
  {
   "cell_type": "code",
   "execution_count": 9,
   "metadata": {},
   "outputs": [
    {
     "name": "stdout",
     "output_type": "stream",
     "text": [
      "12\n",
      "12\n"
     ]
    },
    {
     "data": {
      "text/plain": [
       "array([ True,  True,  True,  True,  True,  True,  True,  True,  True,\n",
       "        True,  True,  True])"
      ]
     },
     "execution_count": 9,
     "metadata": {},
     "output_type": "execute_result"
    }
   ],
   "source": [
    "print(cancel_data['CNT_INSTALMENT'].isnull().sum())\n",
    "print(cancel_data['CNT_INSTALMENT_FUTURE'].isnull().sum())\n",
    "cancel_data[cancel_data['CNT_INSTALMENT'].isnull()].index == cancel_data[cancel_data['CNT_INSTALMENT_FUTURE'].isnull()].index"
   ]
  },
  {
   "cell_type": "markdown",
   "metadata": {},
   "source": [
    "Caneled:<br>\n",
    "欠損していないところはCNT_INSTALMENT= CNT_INSTALMENT_FUTURなので、一度も支払わずに解除したと考えられる<br>\n",
    "→欠損値は0埋めする<br>\n",
    "CNT_INSTALMENT_FUTUREも同様のデータが欠損している。<br>\n",
    "→欠損値は０うめする<br>"
   ]
  },
  {
   "cell_type": "code",
   "execution_count": 10,
   "metadata": {},
   "outputs": [
    {
     "data": {
      "text/html": [
       "<div>\n",
       "<style scoped>\n",
       "    .dataframe tbody tr th:only-of-type {\n",
       "        vertical-align: middle;\n",
       "    }\n",
       "\n",
       "    .dataframe tbody tr th {\n",
       "        vertical-align: top;\n",
       "    }\n",
       "\n",
       "    .dataframe thead th {\n",
       "        text-align: right;\n",
       "    }\n",
       "</style>\n",
       "<table border=\"1\" class=\"dataframe\">\n",
       "  <thead>\n",
       "    <tr style=\"text-align: right;\">\n",
       "      <th></th>\n",
       "      <th>SK_ID_PREV</th>\n",
       "      <th>SK_ID_CURR</th>\n",
       "      <th>MONTHS_BALANCE</th>\n",
       "      <th>CNT_INSTALMENT</th>\n",
       "      <th>CNT_INSTALMENT_FUTURE</th>\n",
       "      <th>NAME_CONTRACT_STATUS</th>\n",
       "      <th>SK_DPD</th>\n",
       "      <th>SK_DPD_DEF</th>\n",
       "    </tr>\n",
       "  </thead>\n",
       "  <tbody>\n",
       "    <tr>\n",
       "      <th>0</th>\n",
       "      <td>1803195</td>\n",
       "      <td>182943</td>\n",
       "      <td>-31</td>\n",
       "      <td>48.0</td>\n",
       "      <td>45.0</td>\n",
       "      <td>Active</td>\n",
       "      <td>0</td>\n",
       "      <td>0</td>\n",
       "    </tr>\n",
       "    <tr>\n",
       "      <th>1</th>\n",
       "      <td>1715348</td>\n",
       "      <td>367990</td>\n",
       "      <td>-33</td>\n",
       "      <td>36.0</td>\n",
       "      <td>35.0</td>\n",
       "      <td>Active</td>\n",
       "      <td>0</td>\n",
       "      <td>0</td>\n",
       "    </tr>\n",
       "    <tr>\n",
       "      <th>2</th>\n",
       "      <td>1784872</td>\n",
       "      <td>397406</td>\n",
       "      <td>-32</td>\n",
       "      <td>12.0</td>\n",
       "      <td>9.0</td>\n",
       "      <td>Active</td>\n",
       "      <td>0</td>\n",
       "      <td>0</td>\n",
       "    </tr>\n",
       "    <tr>\n",
       "      <th>3</th>\n",
       "      <td>1903291</td>\n",
       "      <td>269225</td>\n",
       "      <td>-35</td>\n",
       "      <td>48.0</td>\n",
       "      <td>42.0</td>\n",
       "      <td>Active</td>\n",
       "      <td>0</td>\n",
       "      <td>0</td>\n",
       "    </tr>\n",
       "    <tr>\n",
       "      <th>4</th>\n",
       "      <td>2341044</td>\n",
       "      <td>334279</td>\n",
       "      <td>-35</td>\n",
       "      <td>36.0</td>\n",
       "      <td>35.0</td>\n",
       "      <td>Active</td>\n",
       "      <td>0</td>\n",
       "      <td>0</td>\n",
       "    </tr>\n",
       "  </tbody>\n",
       "</table>\n",
       "</div>"
      ],
      "text/plain": [
       "   SK_ID_PREV  SK_ID_CURR  MONTHS_BALANCE  CNT_INSTALMENT  \\\n",
       "0     1803195      182943             -31            48.0   \n",
       "1     1715348      367990             -33            36.0   \n",
       "2     1784872      397406             -32            12.0   \n",
       "3     1903291      269225             -35            48.0   \n",
       "4     2341044      334279             -35            36.0   \n",
       "\n",
       "   CNT_INSTALMENT_FUTURE NAME_CONTRACT_STATUS  SK_DPD  SK_DPD_DEF  \n",
       "0                   45.0               Active       0           0  \n",
       "1                   35.0               Active       0           0  \n",
       "2                    9.0               Active       0           0  \n",
       "3                   42.0               Active       0           0  \n",
       "4                   35.0               Active       0           0  "
      ]
     },
     "execution_count": 10,
     "metadata": {},
     "output_type": "execute_result"
    }
   ],
   "source": [
    "#Active\n",
    "active_data = pos_cash_balance.query('NAME_CONTRACT_STATUS == \"Active\"')\n",
    "active_data.head()"
   ]
  },
  {
   "cell_type": "code",
   "execution_count": 11,
   "metadata": {},
   "outputs": [
    {
     "name": "stdout",
     "output_type": "stream",
     "text": [
      "The percentage of null :  2.841182591986838e-06\n",
      "The percentage of null :  2.841182591986838e-06\n",
      "26\n",
      "26\n"
     ]
    }
   ],
   "source": [
    "print('The percentage of null : ', active_data['CNT_INSTALMENT'].isnull().sum()/len(active_data['CNT_INSTALMENT']))\n",
    "print('The percentage of null : ', active_data['CNT_INSTALMENT_FUTURE'].isnull().sum()/len(active_data['CNT_INSTALMENT_FUTURE']))\n",
    "print(active_data['CNT_INSTALMENT'].isnull().sum())\n",
    "print(active_data['CNT_INSTALMENT_FUTURE'].isnull().sum())\n",
    "# active_data[active_data['CNT_INSTALMENT'].isnull()].index == active_data[active_data['CNT_INSTALMENT_FUTURE'].isnull()].index\n",
    "#↑エラー、欠損しているCNT_INSTALMENTとCNT_INSTALMENT_FUTUREのインデックスは一致しない"
   ]
  },
  {
   "cell_type": "markdown",
   "metadata": {},
   "source": [
    "全体の約２％が欠損値。入力ミス？<br>\n",
    "CNT_INSTALMENT is null and CNT_INSTALMENT_FUTURE is not null　:　入力ミスか？<br>\n",
    "CNT_INSTALMENT is not null and CNT_INSTALMENT_FUTURE is null :　入力ミスか、まだ支払い前なのか？<br>\n",
    "CNT_INSTALMENT is null and CNT_INSTALMENT_FUTURE is null : 契約中の意味。一括返済とか？<br>"
   ]
  },
  {
   "cell_type": "code",
   "execution_count": 12,
   "metadata": {},
   "outputs": [
    {
     "name": "stdout",
     "output_type": "stream",
     "text": [
      "Active中央値 17.756460129953876\n"
     ]
    },
    {
     "name": "stderr",
     "output_type": "stream",
     "text": [
      "/Users/a_yoshino/anaconda3/lib/python3.7/site-packages/numpy/lib/histograms.py:754: RuntimeWarning: invalid value encountered in greater_equal\n",
      "  keep = (tmp_a >= first_edge)\n",
      "/Users/a_yoshino/anaconda3/lib/python3.7/site-packages/numpy/lib/histograms.py:755: RuntimeWarning: invalid value encountered in less_equal\n",
      "  keep &= (tmp_a <= last_edge)\n"
     ]
    },
    {
     "data": {
      "text/plain": [
       "(array([2.802166e+06, 3.385815e+06, 1.564915e+06, 8.111550e+05,\n",
       "        9.180100e+04, 3.040520e+05, 1.895530e+05, 1.625000e+03,\n",
       "        5.000000e+00, 6.000000e+00]),\n",
       " array([ 1. , 10.1, 19.2, 28.3, 37.4, 46.5, 55.6, 64.7, 73.8, 82.9, 92. ]),\n",
       " <a list of 10 Patch objects>)"
      ]
     },
     "execution_count": 12,
     "metadata": {},
     "output_type": "execute_result"
    },
    {
     "data": {
      "image/png": "[encoded data removed]",
      "text/plain": [
       "<Figure size 432x288 with 1 Axes>"
      ]
     },
     "metadata": {
      "needs_background": "light"
     },
     "output_type": "display_data"
    }
   ],
   "source": [
    "active_mean = np.mean(active_data['CNT_INSTALMENT'])\n",
    "print('Active中央値', active_mean)\n",
    "plt.hist(active_data['CNT_INSTALMENT'])"
   ]
  },
  {
   "cell_type": "code",
   "execution_count": 13,
   "metadata": {},
   "outputs": [
    {
     "name": "stdout",
     "output_type": "stream",
     "text": [
      "Active中央値 17.756460129953876\n"
     ]
    },
    {
     "data": {
      "text/plain": [
       "(array([4.829263e+06, 2.289058e+06, 1.106115e+06, 3.751200e+05,\n",
       "        2.763080e+05, 1.584540e+05, 1.029660e+05, 1.364100e+04,\n",
       "        1.620000e+02, 6.000000e+00]),\n",
       " array([ 0. ,  8.5, 17. , 25.5, 34. , 42.5, 51. , 59.5, 68. , 76.5, 85. ]),\n",
       " <a list of 10 Patch objects>)"
      ]
     },
     "execution_count": 13,
     "metadata": {},
     "output_type": "execute_result"
    },
    {
     "data": {
      "image/png": "[encoded data removed]",
      "text/plain": [
       "<Figure size 432x288 with 1 Axes>"
      ]
     },
     "metadata": {
      "needs_background": "light"
     },
     "output_type": "display_data"
    }
   ],
   "source": [
    "active_f_mean = np.mean(active_data['CNT_INSTALMENT_FUTURE'])\n",
    "print('Active中央値', active_mean)\n",
    "plt.hist(active_data['CNT_INSTALMENT_FUTURE'])"
   ]
  },
  {
   "cell_type": "markdown",
   "metadata": {},
   "source": [
    "Active:<br>\n",
    "契約中　→欠損値処理：欠損値が２％なので、入力ミスと考えて、とりあえず平均値代入法？<br>\n",
    "別のカラムから予測することは可能かも。"
   ]
  },
  {
   "cell_type": "code",
   "execution_count": 14,
   "metadata": {},
   "outputs": [
    {
     "data": {
      "text/html": [
       "<div>\n",
       "<style scoped>\n",
       "    .dataframe tbody tr th:only-of-type {\n",
       "        vertical-align: middle;\n",
       "    }\n",
       "\n",
       "    .dataframe tbody tr th {\n",
       "        vertical-align: top;\n",
       "    }\n",
       "\n",
       "    .dataframe thead th {\n",
       "        text-align: right;\n",
       "    }\n",
       "</style>\n",
       "<table border=\"1\" class=\"dataframe\">\n",
       "  <thead>\n",
       "    <tr style=\"text-align: right;\">\n",
       "      <th></th>\n",
       "      <th>SK_ID_PREV</th>\n",
       "      <th>SK_ID_CURR</th>\n",
       "      <th>MONTHS_BALANCE</th>\n",
       "      <th>CNT_INSTALMENT</th>\n",
       "      <th>CNT_INSTALMENT_FUTURE</th>\n",
       "      <th>NAME_CONTRACT_STATUS</th>\n",
       "      <th>SK_DPD</th>\n",
       "      <th>SK_DPD_DEF</th>\n",
       "    </tr>\n",
       "  </thead>\n",
       "  <tbody>\n",
       "    <tr>\n",
       "      <th>1204</th>\n",
       "      <td>2210238</td>\n",
       "      <td>309584</td>\n",
       "      <td>-34</td>\n",
       "      <td>36.0</td>\n",
       "      <td>36.0</td>\n",
       "      <td>Approved</td>\n",
       "      <td>0</td>\n",
       "      <td>0</td>\n",
       "    </tr>\n",
       "    <tr>\n",
       "      <th>2529</th>\n",
       "      <td>2805784</td>\n",
       "      <td>423358</td>\n",
       "      <td>-40</td>\n",
       "      <td>36.0</td>\n",
       "      <td>36.0</td>\n",
       "      <td>Approved</td>\n",
       "      <td>0</td>\n",
       "      <td>0</td>\n",
       "    </tr>\n",
       "    <tr>\n",
       "      <th>2544</th>\n",
       "      <td>1209943</td>\n",
       "      <td>274010</td>\n",
       "      <td>-41</td>\n",
       "      <td>48.0</td>\n",
       "      <td>48.0</td>\n",
       "      <td>Approved</td>\n",
       "      <td>0</td>\n",
       "      <td>0</td>\n",
       "    </tr>\n",
       "    <tr>\n",
       "      <th>7059</th>\n",
       "      <td>1334594</td>\n",
       "      <td>185047</td>\n",
       "      <td>-38</td>\n",
       "      <td>36.0</td>\n",
       "      <td>36.0</td>\n",
       "      <td>Approved</td>\n",
       "      <td>0</td>\n",
       "      <td>0</td>\n",
       "    </tr>\n",
       "    <tr>\n",
       "      <th>9386</th>\n",
       "      <td>2086138</td>\n",
       "      <td>288753</td>\n",
       "      <td>-32</td>\n",
       "      <td>NaN</td>\n",
       "      <td>NaN</td>\n",
       "      <td>Approved</td>\n",
       "      <td>0</td>\n",
       "      <td>0</td>\n",
       "    </tr>\n",
       "  </tbody>\n",
       "</table>\n",
       "</div>"
      ],
      "text/plain": [
       "      SK_ID_PREV  SK_ID_CURR  MONTHS_BALANCE  CNT_INSTALMENT  \\\n",
       "1204     2210238      309584             -34            36.0   \n",
       "2529     2805784      423358             -40            36.0   \n",
       "2544     1209943      274010             -41            48.0   \n",
       "7059     1334594      185047             -38            36.0   \n",
       "9386     2086138      288753             -32             NaN   \n",
       "\n",
       "      CNT_INSTALMENT_FUTURE NAME_CONTRACT_STATUS  SK_DPD  SK_DPD_DEF  \n",
       "1204                   36.0             Approved       0           0  \n",
       "2529                   36.0             Approved       0           0  \n",
       "2544                   48.0             Approved       0           0  \n",
       "7059                   36.0             Approved       0           0  \n",
       "9386                    NaN             Approved       0           0  "
      ]
     },
     "execution_count": 14,
     "metadata": {},
     "output_type": "execute_result"
    }
   ],
   "source": [
    "#Approved:承認済み\n",
    "appr_data = pos_cash_balance.query('NAME_CONTRACT_STATUS == \"Approved\"')\n",
    "appr_data.head()"
   ]
  },
  {
   "cell_type": "markdown",
   "metadata": {},
   "source": [
    "欠損値と他データとの規則性はなさそう？<br>\n",
    "署名済みの時点で欠損というのは、、、どの時点の欠損値なの？<br>\n",
    "\n",
    "<元銀行マンの話><br>\n",
    "ローン組みたいと思ってます→署名<br>\n",
    "ローンの説明受けました→署名<br>\n",
    "ローンの内容に理解しました→署名<br>\n",
    "ローン契約します→署名<br>"
   ]
  },
  {
   "cell_type": "code",
   "execution_count": 15,
   "metadata": {},
   "outputs": [
    {
     "name": "stdout",
     "output_type": "stream",
     "text": [
      "CNT_INSTALMENT　 percentage of null :  0.5702664226154159\n",
      "CNT_INSTALMENT_FUTURE　 percentage of null :  0.5682326621923938\n",
      "2804\n",
      "2794\n"
     ]
    }
   ],
   "source": [
    "print('CNT_INSTALMENT　 percentage of null : ', appr_data['CNT_INSTALMENT'].isnull().sum()/len(appr_data['CNT_INSTALMENT']))\n",
    "print('CNT_INSTALMENT_FUTURE　 percentage of null : ', appr_data['CNT_INSTALMENT_FUTURE'].isnull().sum()/len(appr_data['CNT_INSTALMENT_FUTURE']))\n",
    "print(appr_data['CNT_INSTALMENT'].isnull().sum())\n",
    "print(appr_data['CNT_INSTALMENT_FUTURE'].isnull().sum())\n",
    "# appr_data[appr_data['CNT_INSTALMENT'].isnull()].index == appr_data[appr_data['CNT_INSTALMENT_FUTURE'].isnull()].index\n",
    "#これもエラー、欠損しているCNT_INSTALMENTとCNT_INSTALMENT_FUTUREのインデックスは一致しない"
   ]
  },
  {
   "cell_type": "code",
   "execution_count": 16,
   "metadata": {},
   "outputs": [
    {
     "name": "stdout",
     "output_type": "stream",
     "text": [
      "Approved:中央値 27.989115002366304\n"
     ]
    },
    {
     "data": {
      "text/plain": [
       "(array([104., 465., 252., 381., 103., 357.,  52., 179.,  26., 194.]),\n",
       " array([ 1. ,  6.9, 12.8, 18.7, 24.6, 30.5, 36.4, 42.3, 48.2, 54.1, 60. ]),\n",
       " <a list of 10 Patch objects>)"
      ]
     },
     "execution_count": 16,
     "metadata": {},
     "output_type": "execute_result"
    },
    {
     "data": {
      "image/png": "[encoded data removed]",
      "text/plain": [
       "<Figure size 432x288 with 1 Axes>"
      ]
     },
     "metadata": {
      "needs_background": "light"
     },
     "output_type": "display_data"
    }
   ],
   "source": [
    "appr_mean = np.mean(appr_data['CNT_INSTALMENT'])\n",
    "print('Approved:中央値', appr_mean)\n",
    "plt.hist(appr_data['CNT_INSTALMENT'])"
   ]
  },
  {
   "cell_type": "code",
   "execution_count": 17,
   "metadata": {},
   "outputs": [
    {
     "name": "stdout",
     "output_type": "stream",
     "text": [
      "Approved:中央値 27.6189354686764\n"
     ]
    },
    {
     "data": {
      "text/plain": [
       "(array([ 77., 177., 377., 217., 354., 107., 358.,  52., 181., 223.]),\n",
       " array([ 0.,  6., 12., 18., 24., 30., 36., 42., 48., 54., 60.]),\n",
       " <a list of 10 Patch objects>)"
      ]
     },
     "execution_count": 17,
     "metadata": {},
     "output_type": "execute_result"
    },
    {
     "data": {
      "image/png": "[encoded data removed]",
      "text/plain": [
       "<Figure size 432x288 with 1 Axes>"
      ]
     },
     "metadata": {
      "needs_background": "light"
     },
     "output_type": "display_data"
    }
   ],
   "source": [
    "appr_f_mean = np.mean(appr_data['CNT_INSTALMENT_FUTURE'])\n",
    "print('Approved:中央値', appr_f_mean)\n",
    "plt.hist(appr_data['CNT_INSTALMENT_FUTURE'])"
   ]
  },
  {
   "cell_type": "markdown",
   "metadata": {},
   "source": [
    "Approved:<br>\n",
    "データ半数が欠損している<br>\n",
    "とりあえず中央値で埋める"
   ]
  },
  {
   "cell_type": "code",
   "execution_count": 18,
   "metadata": {},
   "outputs": [
    {
     "name": "stdout",
     "output_type": "stream",
     "text": [
      "CNT_INSTALMENT　 percentage of null 0.5422083867423548\n",
      "CNT_INSTALMENT_FUTURE　 percentage of null 0.542391503387658\n",
      "all data 5461\n",
      "both data null  2956\n",
      "CNT_INSTALMENT is null  2961\n",
      "CNT_INSTALMENT_FUTURE is null  2962\n",
      "CNT_INSTALMENT_FUTURE is not null  and CNT_INSTALMENT is null  5\n",
      "CNT_INSTALMENT_FUTURE is null  and CNT_INSTALMENT is not null  6\n"
     ]
    }
   ],
   "source": [
    "#Returned to the store \n",
    "return_data = pos_cash_balance.query('NAME_CONTRACT_STATUS == \"Returned to the store\"')\n",
    "print(\"CNT_INSTALMENT　 percentage of null\", return_data['CNT_INSTALMENT'].isnull().sum()/len(return_data))\n",
    "print(\"CNT_INSTALMENT_FUTURE　 percentage of null\", return_data['CNT_INSTALMENT_FUTURE'].isnull().sum()/len(return_data))\n",
    "print('all data', len(return_data))\n",
    "print('both data null ' ,len(return_data.query('CNT_INSTALMENT == \"NaN\"').query('CNT_INSTALMENT_FUTURE == \"NaN\"')))\n",
    "print('CNT_INSTALMENT is null ', len(return_data.query('CNT_INSTALMENT == \"NaN\"')))\n",
    "print('CNT_INSTALMENT_FUTURE is null ', len(return_data.query('CNT_INSTALMENT_FUTURE == \"NaN\"')))\n",
    "print('CNT_INSTALMENT_FUTURE is not null  and CNT_INSTALMENT is null ' ,len(return_data.query('CNT_INSTALMENT_FUTURE != \"NaN\"').query('CNT_INSTALMENT == \"NaN\"')))\n",
    "print('CNT_INSTALMENT_FUTURE is null  and CNT_INSTALMENT is not null ' ,len(return_data.query('CNT_INSTALMENT != \"NaN\"').query('CNT_INSTALMENT_FUTURE == \"NaN\"')))"
   ]
  },
  {
   "cell_type": "code",
   "execution_count": 19,
   "metadata": {},
   "outputs": [
    {
     "name": "stdout",
     "output_type": "stream",
     "text": [
      "Returned to the store :中央値 8.398\n"
     ]
    },
    {
     "data": {
      "text/plain": [
       "(array([1.214e+03, 1.115e+03, 7.700e+01, 5.500e+01, 6.000e+00, 2.300e+01,\n",
       "        2.000e+00, 5.000e+00, 1.000e+00, 2.000e+00]),\n",
       " array([ 1. ,  6.9, 12.8, 18.7, 24.6, 30.5, 36.4, 42.3, 48.2, 54.1, 60. ]),\n",
       " <a list of 10 Patch objects>)"
      ]
     },
     "execution_count": 19,
     "metadata": {},
     "output_type": "execute_result"
    },
    {
     "data": {
      "image/png": "[encoded data removed]",
      "text/plain": [
       "<Figure size 432x288 with 1 Axes>"
      ]
     },
     "metadata": {
      "needs_background": "light"
     },
     "output_type": "display_data"
    }
   ],
   "source": [
    "return_mean = np.mean(return_data['CNT_INSTALMENT'])\n",
    "print('Returned to the store :中央値', return_mean)\n",
    "plt.hist(return_data['CNT_INSTALMENT'])"
   ]
  },
  {
   "cell_type": "code",
   "execution_count": 20,
   "metadata": {},
   "outputs": [
    {
     "name": "stdout",
     "output_type": "stream",
     "text": [
      "Returned to the store :中央値 8.428971588635454\n"
     ]
    },
    {
     "data": {
      "text/plain": [
       "(array([1.206e+03, 1.119e+03, 8.000e+01, 5.400e+01, 6.000e+00, 2.400e+01,\n",
       "        2.000e+00, 5.000e+00, 1.000e+00, 2.000e+00]),\n",
       " array([ 1. ,  6.9, 12.8, 18.7, 24.6, 30.5, 36.4, 42.3, 48.2, 54.1, 60. ]),\n",
       " <a list of 10 Patch objects>)"
      ]
     },
     "execution_count": 20,
     "metadata": {},
     "output_type": "execute_result"
    },
    {
     "data": {
      "image/png": "[encoded data removed]",
      "text/plain": [
       "<Figure size 432x288 with 1 Axes>"
      ]
     },
     "metadata": {
      "needs_background": "light"
     },
     "output_type": "display_data"
    }
   ],
   "source": [
    "return_f_mean = np.mean(return_data['CNT_INSTALMENT_FUTURE'])\n",
    "print('Returned to the store :中央値', return_f_mean)\n",
    "plt.hist(return_data['CNT_INSTALMENT_FUTURE'])"
   ]
  },
  {
   "cell_type": "markdown",
   "metadata": {},
   "source": [
    "Returned to the store :<br>\n",
    "・欠損値はCNT_INSTALMENT、CNT_INSTALMENT_FUTUREどちらも半数をしめる<br>\n",
    "\n",
    "・どちらのデータも欠損しているのは2956。片方しか欠損していないのは3%<br>\n",
    "→3％は入力ミスか？<br>\n",
    "→その3%は中央値で埋めてみる<br>\n",
    "\n",
    "・両方欠損しているデータはわざとか。<br>\n",
    "→Returned to the store自体、状態が再来店。契約終了後の再来店だった場合は欠損する可能性がある。<br>\n",
    "→０で埋める"
   ]
  },
  {
   "cell_type": "code",
   "execution_count": 21,
   "metadata": {},
   "outputs": [
    {
     "name": "stdout",
     "output_type": "stream",
     "text": [
      "CNT_INSTALMENT　 percentage of null 0.23224845289938115\n",
      "CNT_INSTALMENT_FUTURE　 percentage of null 0.2325349530139812\n",
      "all data 87260\n",
      "both data null  20187\n",
      "CNT_INSTALMENT is null  20266\n",
      "CNT_INSTALMENT_FUTURE is null  20291\n",
      "CNT_INSTALMENT_FUTURE is not null  and CNT_INSTALMENT is null  79\n",
      "CNT_INSTALMENT_FUTURE is null  and CNT_INSTALMENT is not null  104\n"
     ]
    }
   ],
   "source": [
    "#Signed\n",
    "sig_data = pos_cash_balance.query('NAME_CONTRACT_STATUS == \"Signed\"')\n",
    "print(\"CNT_INSTALMENT　 percentage of null\", sig_data['CNT_INSTALMENT'].isnull().sum()/len(sig_data))\n",
    "print(\"CNT_INSTALMENT_FUTURE　 percentage of null\", sig_data['CNT_INSTALMENT_FUTURE'].isnull().sum()/len(sig_data))\n",
    "print('all data', len(sig_data))\n",
    "print('both data null ' ,len(sig_data.query('CNT_INSTALMENT == \"NaN\"').query('CNT_INSTALMENT_FUTURE == \"NaN\"')))\n",
    "print('CNT_INSTALMENT is null ', len(sig_data.query('CNT_INSTALMENT == \"NaN\"')))\n",
    "print('CNT_INSTALMENT_FUTURE is null ', len(sig_data.query('CNT_INSTALMENT_FUTURE == \"NaN\"')))\n",
    "print('CNT_INSTALMENT_FUTURE is not null  and CNT_INSTALMENT is null ' ,len(sig_data.query('CNT_INSTALMENT_FUTURE != \"NaN\"').query('CNT_INSTALMENT == \"NaN\"')))\n",
    "print('CNT_INSTALMENT_FUTURE is null  and CNT_INSTALMENT is not null ' ,len(sig_data.query('CNT_INSTALMENT != \"NaN\"').query('CNT_INSTALMENT_FUTURE == \"NaN\"')))"
   ]
  },
  {
   "cell_type": "code",
   "execution_count": 22,
   "metadata": {},
   "outputs": [
    {
     "name": "stdout",
     "output_type": "stream",
     "text": [
      "Signed :中央値 13.528480162402603\n"
     ]
    },
    {
     "data": {
      "text/plain": [
       "(array([19711., 30596.,  4738.,  6130.,   848.,  2383.,   292.,  1318.,\n",
       "           62.,   916.]),\n",
       " array([ 1.,  7., 13., 19., 25., 31., 37., 43., 49., 55., 61.]),\n",
       " <a list of 10 Patch objects>)"
      ]
     },
     "execution_count": 22,
     "metadata": {},
     "output_type": "execute_result"
    },
    {
     "data": {
      "image/png": "[encoded data removed]",
      "text/plain": [
       "<Figure size 432x288 with 1 Axes>"
      ]
     },
     "metadata": {
      "needs_background": "light"
     },
     "output_type": "display_data"
    }
   ],
   "source": [
    "sig_mean = np.mean(sig_data['CNT_INSTALMENT'])\n",
    "print('Signed :中央値', sig_mean)\n",
    "plt.hist(sig_data['CNT_INSTALMENT'])"
   ]
  },
  {
   "cell_type": "code",
   "execution_count": 23,
   "metadata": {},
   "outputs": [
    {
     "name": "stdout",
     "output_type": "stream",
     "text": [
      "Signed:中央値 13.210156938284879\n"
     ]
    },
    {
     "data": {
      "text/plain": [
       "(array([21090., 29584.,  4466.,  6047.,   838.,  2384.,   303.,  1288.,\n",
       "           70.,   899.]),\n",
       " array([ 0. ,  6.1, 12.2, 18.3, 24.4, 30.5, 36.6, 42.7, 48.8, 54.9, 61. ]),\n",
       " <a list of 10 Patch objects>)"
      ]
     },
     "execution_count": 23,
     "metadata": {},
     "output_type": "execute_result"
    },
    {
     "data": {
      "image/png": "[encoded data removed]",
      "text/plain": [
       "<Figure size 432x288 with 1 Axes>"
      ]
     },
     "metadata": {
      "needs_background": "light"
     },
     "output_type": "display_data"
    }
   ],
   "source": [
    "sig_f_mean = np.mean(sig_data['CNT_INSTALMENT_FUTURE'])\n",
    "print('Signed:中央値', sig_f_mean)\n",
    "plt.hist(sig_data['CNT_INSTALMENT_FUTURE'])"
   ]
  },
  {
   "cell_type": "markdown",
   "metadata": {},
   "source": [
    "Signed(署名済み）:<br>\n",
    "・全体（Signed)のデータに対して欠損値20%。（他の状態より少ない）<br>\n",
    "・全体(Signed)片方欠損も割と多め？<br>\n",
    "→中央値で補完する？"
   ]
  },
  {
   "cell_type": "markdown",
   "metadata": {},
   "source": [
    "## replace"
   ]
  },
  {
   "cell_type": "code",
   "execution_count": 71,
   "metadata": {},
   "outputs": [],
   "source": [
    "pos_cash_balance_rep= pos_cash_balance.copy()\n",
    "#XNA\n",
    "pos_cash_balance_rep[pos_cash_balance['NAME_CONTRACT_STATUS'] == 'XNA']= pos_cash_balance[pos_cash_balance['NAME_CONTRACT_STATUS'] == 'XNA'].fillna(0)\n",
    "# Canceled\n",
    "pos_cash_balance_rep[pos_cash_balance['NAME_CONTRACT_STATUS'] == 'Canceled']= pos_cash_balance[pos_cash_balance['NAME_CONTRACT_STATUS'] == 'Canceled'].fillna(0)\n",
    "#Active\n",
    "pos_cash_balance_rep.loc[pos_cash_balance['NAME_CONTRACT_STATUS'] == 'Active', ['CNT_INSTALMENT']] = pos_cash_balance.loc[pos_cash_balance['NAME_CONTRACT_STATUS'] == 'Active', ['CNT_INSTALMENT']].fillna(active_mean)\n",
    "pos_cash_balance_rep.loc[pos_cash_balance['NAME_CONTRACT_STATUS'] == 'Active', ['CNT_INSTALMENT_FUTURE']] = pos_cash_balance.loc[pos_cash_balance['NAME_CONTRACT_STATUS'] == 'Active', ['CNT_INSTALMENT_FUTURE']].fillna(active_f_mean)\n",
    "#Approved\n",
    "pos_cash_balance_rep.loc[pos_cash_balance['NAME_CONTRACT_STATUS'] == 'Approved', ['CNT_INSTALMENT']] = pos_cash_balance.loc[pos_cash_balance['NAME_CONTRACT_STATUS'] == 'Approved', ['CNT_INSTALMENT']].fillna(appr_mean)\n",
    "pos_cash_balance_rep.loc[pos_cash_balance['NAME_CONTRACT_STATUS'] == 'Approved', ['CNT_INSTALMENT_FUTURE']] = pos_cash_balance.loc[pos_cash_balance['NAME_CONTRACT_STATUS'] == 'Approved', ['CNT_INSTALMENT_FUTURE']].fillna(appr_f_mean)\n",
    "# #Returned to the store\n",
    "pos_cash_balance_rep.loc[pos_cash_balance['NAME_CONTRACT_STATUS'] == 'Returned to the store', ['CNT_INSTALMENT']] = pos_cash_balance.loc[pos_cash_balance['NAME_CONTRACT_STATUS'] == 'Returned to the store', ['CNT_INSTALMENT']].fillna(return_mean)\n",
    "pos_cash_balance_rep.loc[pos_cash_balance['NAME_CONTRACT_STATUS'] == 'Returned to the store', ['CNT_INSTALMENT_FUTURE']] = pos_cash_balance.loc[pos_cash_balance['NAME_CONTRACT_STATUS'] == 'Returned to the store', ['CNT_INSTALMENT_FUTURE']].fillna(return_f_mean)\n",
    "# #Signed\n",
    "pos_cash_balance_rep.loc[pos_cash_balance['NAME_CONTRACT_STATUS'] == 'Signed', ['CNT_INSTALMENT']] = pos_cash_balance.loc[pos_cash_balance['NAME_CONTRACT_STATUS'] == 'Signed', ['CNT_INSTALMENT']].fillna(sig_mean)\n",
    "pos_cash_balance_rep.loc[pos_cash_balance['NAME_CONTRACT_STATUS'] == 'Signed', ['CNT_INSTALMENT_FUTURE']] = pos_cash_balance.loc[pos_cash_balance['NAME_CONTRACT_STATUS'] == 'Signed', ['CNT_INSTALMENT_FUTURE']].fillna(sig_f_mean)"
   ]
  },
  {
   "cell_type": "code",
   "execution_count": 72,
   "metadata": {},
   "outputs": [
    {
     "data": {
      "text/plain": [
       "SK_ID_PREV               0\n",
       "SK_ID_CURR               0\n",
       "MONTHS_BALANCE           0\n",
       "CNT_INSTALMENT           0\n",
       "CNT_INSTALMENT_FUTURE    0\n",
       "NAME_CONTRACT_STATUS     0\n",
       "SK_DPD                   0\n",
       "SK_DPD_DEF               0\n",
       "dtype: int64"
      ]
     },
     "execution_count": 72,
     "metadata": {},
     "output_type": "execute_result"
    }
   ],
   "source": [
    "pos_cash_balance_rep.isnull().sum()"
   ]
  },
  {
   "cell_type": "code",
   "execution_count": 73,
   "metadata": {},
   "outputs": [
    {
     "data": {
      "text/plain": [
       "SK_ID_PREV                   0\n",
       "SK_ID_CURR                   0\n",
       "MONTHS_BALANCE               0\n",
       "CNT_INSTALMENT           26071\n",
       "CNT_INSTALMENT_FUTURE    26087\n",
       "NAME_CONTRACT_STATUS         0\n",
       "SK_DPD                       0\n",
       "SK_DPD_DEF                   0\n",
       "dtype: int64"
      ]
     },
     "execution_count": 73,
     "metadata": {},
     "output_type": "execute_result"
    }
   ],
   "source": [
    "pos_cash_balance.isnull().sum()"
   ]
  },
  {
   "cell_type": "code",
   "execution_count": 104,
   "metadata": {},
   "outputs": [
    {
     "data": {
      "image/png": "[encoded data removed]",
      "text/plain": [
       "<Figure size 720x720 with 2 Axes>"
      ]
     },
     "metadata": {
      "needs_background": "light"
     },
     "output_type": "display_data"
    }
   ],
   "source": [
    "fig = plt.figure(figsize=(10, 10))\n",
    "ax1 =fig.add_subplot(2, 2, 1)\n",
    "ax1.hist(pos_cash_balance['CNT_INSTALMENT'], bins=50, alpha =0.5, label= 'pos_cash_balance')\n",
    "ax1.hist(pos_cash_balance_rep['CNT_INSTALMENT'], bins=50, alpha =0.5, label= 'pos_cash_balance_rep')\n",
    "ax1.set_title('CNT_INTSTALMENT')\n",
    "ax1.legend()\n",
    "ax2 =fig.add_subplot(2, 2, 2)\n",
    "ax2.hist(pos_cash_balance['CNT_INSTALMENT_FUTURE'], bins=50, alpha =0.5, label= 'pos_cash_balance')\n",
    "ax2.hist(pos_cash_balance_rep['CNT_INSTALMENT_FUTURE'], bins=50, alpha =0.5, label= 'pos_cash_balance_rep')\n",
    "ax2.set_title('CNT_INTSTALMENT_FUTURE')\n",
    "ax2.legend()\n",
    "fig.show()"
   ]
  },
  {
   "cell_type": "code",
   "execution_count": null,
   "metadata": {},
   "outputs": [],
   "source": [
    "pos_cash_balance_rep.to_csv('pre_pos_cash_balance.csv', index=False)"
   ]
  },
  {
   "cell_type": "code",
   "execution_count": null,
   "metadata": {},
   "outputs": [],
   "source": []
  }
 ],
 "metadata": {
  "kernelspec": {
   "display_name": "Python 3",
   "language": "python",
   "name": "python3"
  },
  "language_info": {
   "codemirror_mode": {
    "name": "ipython",
    "version": 3
   },
   "file_extension": ".py",
   "mimetype": "text/x-python",
   "name": "python",
   "nbconvert_exporter": "python",
   "pygments_lexer": "ipython3",
   "version": "3.7.1"
  }
 },
 "nbformat": 4,
 "nbformat_minor": 2
}
